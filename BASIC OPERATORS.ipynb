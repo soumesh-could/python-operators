{
 "cells": [
  {
   "cell_type": "code",
   "execution_count": 1,
   "id": "a6b5be1b",
   "metadata": {},
   "outputs": [
    {
     "name": "stdout",
     "output_type": "stream",
     "text": [
      "13\n",
      "5\n",
      "36\n",
      "2.25\n",
      "2\n",
      "1\n",
      "6561\n"
     ]
    }
   ],
   "source": [
    "a = 9\n",
    "b = 4\n",
    "  \n",
    "\n",
    "add = a + b \n",
    "  \n",
    "\n",
    "sub = a - b \n",
    "  \n",
    " \n",
    "mul = a * b \n",
    "  \n",
    "\n",
    "div1 = a / b \n",
    "  \n",
    "\n",
    "div2 = a // b \n",
    "  \n",
    "\n",
    "mod = a % b \n",
    "  \n",
    "\n",
    "p = a ** b\n",
    "  \n",
    "\n",
    "print(add) \n",
    "print(sub) \n",
    "print(mul) \n",
    "print(div1) \n",
    "print(div2) \n",
    "print(mod)\n",
    "print(p)"
   ]
  },
  {
   "cell_type": "code",
   "execution_count": null,
   "id": "5ac0c736",
   "metadata": {},
   "outputs": [],
   "source": []
  }
 ],
 "metadata": {
  "kernelspec": {
   "display_name": "Python 3",
   "language": "python",
   "name": "python3"
  },
  "language_info": {
   "codemirror_mode": {
    "name": "ipython",
    "version": 3
   },
   "file_extension": ".py",
   "mimetype": "text/x-python",
   "name": "python",
   "nbconvert_exporter": "python",
   "pygments_lexer": "ipython3",
   "version": "3.8.8"
  }
 },
 "nbformat": 4,
 "nbformat_minor": 5
}
